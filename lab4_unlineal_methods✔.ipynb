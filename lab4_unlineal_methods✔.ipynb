{
 "cells": [
  {
   "cell_type": "code",
   "execution_count": 1,
   "metadata": {
    "collapsed": true
   },
   "outputs": [],
   "source": [
    "import numpy as np\n",
    "from matplotlib import pylab as plt\n",
    "import math\n",
    "eps=0.01"
   ]
  },
  {
   "cell_type": "code",
   "execution_count": 2,
   "metadata": {
    "collapsed": true
   },
   "outputs": [],
   "source": [
    "def F_calc(xxx): \n",
    "    F=0\n",
    "    F=4**xxx - 5*xxx -2\n",
    "    return F"
   ]
  },
  {
   "cell_type": "code",
   "execution_count": 3,
   "metadata": {
    "collapsed": true
   },
   "outputs": [],
   "source": [
    "def F_shtrih_1(xxx): \n",
    "    F=0\n",
    "    F=(4**xxx)*np.log(4) - 5\n",
    "    return F"
   ]
  },
  {
   "cell_type": "code",
   "execution_count": 4,
   "metadata": {
    "collapsed": true
   },
   "outputs": [],
   "source": [
    "def F_shtrih_2(xxx): \n",
    "    F=0\n",
    "    F=(4**xxx)*np.log(4)*np.log(4)\n",
    "    return F"
   ]
  },
  {
   "cell_type": "code",
   "execution_count": 5,
   "metadata": {
    "collapsed": true
   },
   "outputs": [],
   "source": [
    "def F_x(xxx):#for simple iterations\n",
    "    F=0\n",
    "    F=math.log(5*xxx+2, 4) \n",
    "    return F"
   ]
  },
  {
   "cell_type": "code",
   "execution_count": 6,
   "metadata": {
    "collapsed": true
   },
   "outputs": [],
   "source": [
    "def function_plt(n):\n",
    "    #F=0\n",
    "    y_plot=[]\n",
    "    #x=[]\n",
    "    x_plot=np.linspace(-n,n,500)\n",
    "    \n",
    "    for i in x_plot:\n",
    "        y_plot.append(F_calc(i))\n",
    "    \n",
    "    plt.plot(x_plot,y_plot,'--',color='red')\n",
    "    \n",
    "    y_plot.clear()\n",
    "    for i in x_plot:\n",
    "        y_plot.append(0)\n",
    "        \n",
    "    plt.plot(x_plot,y_plot,'--',color='black')\n",
    "    \n",
    "    plt.grid(True)\n",
    "    plt.show()\n",
    "    \n",
    "    #x.clear()\n",
    "    #print(x)\n",
    "    y_plot.clear()"
   ]
  },
  {
   "cell_type": "code",
   "execution_count": 7,
   "metadata": {},
   "outputs": [
    {
     "data": {
      "image/png": "[encoded data removed]",
      "text/plain": [
       "<matplotlib.figure.Figure at 0x19a22eb6630>"
      ]
     },
     "metadata": {},
     "output_type": "display_data"
    }
   ],
   "source": [
    "function_plt(3)"
   ]
  },
  {
   "cell_type": "code",
   "execution_count": 8,
   "metadata": {},
   "outputs": [
    {
     "name": "stdout",
     "output_type": "stream",
     "text": [
      "\n",
      "x or [a,b]:  [1, 2]\n",
      "y:  [-3, 4]\n"
     ]
    }
   ],
   "source": [
    "#Razbienie\n",
    "#nn=int(input())\n",
    "x=[]\n",
    "y=[]\n",
    "i=0\n",
    "#for i in range(nn):\n",
    "while True:\n",
    "    #print(x)\n",
    "    #print(y)\n",
    "    #print('i',i)\n",
    "    if (i==0) or (i==1):\n",
    "        x.append(i)\n",
    "        y.append(F_calc(i))\n",
    "        i+=1\n",
    "        continue\n",
    "    elif y[i-2]*y[i-1]<0:\n",
    "        #x.append(i)\n",
    "        #y.append(F_calc(i))\n",
    "        break\n",
    "    elif i==15:\n",
    "        break\n",
    "    else:\n",
    "        x.append(i)\n",
    "        y.append(F_calc(i))\n",
    "        i+=1\n",
    "        continue\n",
    "    \n",
    "#print(x)\n",
    "#print(y)\n",
    "\n",
    "indexes=[]#make interval\n",
    "for i in range(len(y)-1):\n",
    "    if y[i]*y[i+1]<0:\n",
    "        indexes.append(x[i:i+2])\n",
    "        indexes.append(y[i:i+2])\n",
    "    else:\n",
    "        continue       \n",
    "#print(indexes)\n",
    "print()\n",
    "\n",
    "x=indexes[0]\n",
    "y=indexes[1]\n",
    "\n",
    "print('x or [a,b]: ',x)\n",
    "print('y: ',y)"
   ]
  },
  {
   "cell_type": "code",
   "execution_count": 9,
   "metadata": {},
   "outputs": [
    {
     "name": "stdout",
     "output_type": "stream",
     "text": [
      "0 1.5 [1, 2]\n",
      "1 1.75 [1.5, 2]\n",
      "2 1.6875 [1.625, 1.75]\n",
      "3 1.71875 [1.6875, 1.75]\n",
      "4 1.703125 [1.6875, 1.71875]\n",
      "5 1.6953125 [1.6875, 1.703125]\n",
      "1.69140625\n",
      "in this dot:  -0.025981128464513503\n"
     ]
    }
   ],
   "source": [
    "#method 1 Половинное деление\n",
    "x_1=[]\n",
    "x_1.clear()\n",
    "for i in x:\n",
    "    x_1.append(i)\n",
    "tmp=[]\n",
    "counter=0\n",
    "while abs(x_1[1]-x_1[0])>eps:\n",
    "    \n",
    "        x_finalle=(x_1[0]+x_1[1])/2\n",
    "        print(counter,x_finalle,x_1)\n",
    "        counter+=1\n",
    "        \n",
    "        if F_calc(x_1[0])*F_calc(x_finalle)<0:\n",
    "            x_1[0]=x_1[0]\n",
    "            x_1[1]=x_finalle\n",
    "        \n",
    "        x_finalle=(x_1[0]+x_1[1])/2\n",
    "        \n",
    "        if F_calc(x_1[0])*F_calc(x_finalle)>0:\n",
    "            x_1[0]=x_finalle\n",
    "            x_1[1]=x_1[1]\n",
    "        #print(x_1)\n",
    "        \n",
    "print(x_finalle)\n",
    "print('in this dot: ',F_calc(x_finalle))"
   ]
  },
  {
   "cell_type": "code",
   "execution_count": 10,
   "metadata": {},
   "outputs": [
    {
     "name": "stdout",
     "output_type": "stream",
     "text": [
      "1.6239637567217928\n",
      "0 1.6239637567217928 1\n",
      "1 1.6695557753486527 1.6239637567217928\n",
      "2 1.685624612591419 1.6695557753486527\n",
      "1.6912038041558715 otrez:  [1.685624612591419, 1.6912038041558715]\n",
      "in this dot:  -0.02789595782226506\n"
     ]
    }
   ],
   "source": [
    "#method 2 simple iteration\n",
    "x_2=[]\n",
    "x_2.clear()\n",
    "for i in x:\n",
    "    x_2.append(i)\n",
    "tmp=[]\n",
    "\n",
    "#x_2[0]=-0.25;x_2[1]=-0.2\n",
    "#print(x_2)\n",
    "x_finalle=F_x((x_2[1]+x_2[0])/2)\n",
    "x_i=x_2[0]\n",
    "\n",
    "print(x_finalle)\n",
    "k=0\n",
    "\n",
    "counter=0\n",
    "while abs(x_finalle-x_i)>eps:\n",
    "    print(counter,x_finalle,x_i)\n",
    "    counter+=1\n",
    "    \n",
    "    x_i=x_finalle\n",
    "    x_finalle=F_x(x_finalle)   \n",
    "\n",
    "x_2=[x_i,x_finalle]\n",
    "print(x_finalle,'otrez: ',x_2)\n",
    "print('in this dot: ',F_calc(x_finalle))"
   ]
  },
  {
   "cell_type": "code",
   "execution_count": 11,
   "metadata": {},
   "outputs": [
    {
     "name": "stdout",
     "output_type": "stream",
     "text": [
      "1.6239637567217928\n",
      "0 1.6239637567217928 1\n",
      "1 1.6695557753486527 1.6239637567217928\n",
      "2 1.685624612591419 1.6695557753486527\n",
      "3 1.6912038041558715 1.685624612591419\n",
      "4 1.6931308827873646 1.6912038041558715\n",
      "1.6937953102745573 otrez:  [1.6931308827873646, 1.6937953102745573]\n",
      "in this dot:  -0.0033221374359619915\n"
     ]
    }
   ],
   "source": [
    "#method 2 simple iteration\n",
    "x_2=[]\n",
    "x_2.clear()\n",
    "for i in x:\n",
    "    x_2.append(i)\n",
    "tmp=[]\n",
    "\n",
    "#x_2[0]=-0.25;x_2[1]=-0.2\n",
    "#print(x_2)\n",
    "x_finalle=F_x((x_2[1]+x_2[0])/2)\n",
    "x_i=x_2[0]\n",
    "\n",
    "print(x_finalle)\n",
    "k=0\n",
    "\n",
    "counter=0\n",
    "while abs(F_calc(x_i))>eps:\n",
    "    print(counter,x_finalle,x_i)\n",
    "    counter+=1\n",
    "    \n",
    "    x_i=x_finalle\n",
    "    x_finalle=F_x(x_finalle)   \n",
    "\n",
    "x_2=[x_i,x_finalle]\n",
    "print(x_finalle,'otrez: ',x_2)\n",
    "print('in this dot: ',F_calc(x_finalle))"
   ]
  },
  {
   "cell_type": "code",
   "execution_count": 12,
   "metadata": {},
   "outputs": [
    {
     "name": "stdout",
     "output_type": "stream",
     "text": [
      "0 2 [1, 2]\n",
      "1 1.7671807479606543 [1, 1.7671807479606543]\n",
      "1.6993365258165076 pogreshnost`  0.005163629863068779\n",
      "in this dot:  0.0496759650188654\n"
     ]
    }
   ],
   "source": [
    "#method 3 Newthon`s\n",
    "\n",
    "x_3=[]\n",
    "y_3=[]\n",
    "x_3.clear()\n",
    "y_3.clear()\n",
    "for i in x:\n",
    "    x_3.append(i)\n",
    "tmp=[]\n",
    "for i in y:\n",
    "    y_3.append(i)\n",
    "    \n",
    "#neobhodimoe yslovie\n",
    "flag='zero'\n",
    "if F_calc(x_3[0])*F_shtrih_2(x_3[0])>0:#x=a\n",
    "    flag='a'\n",
    "    x_finalle=x_3[0]\n",
    "else:\n",
    "    if F_calc(x_3[1])*F_shtrih_2(x_3[1])>0:#x=b\n",
    "        x_finalle=x_3[1]\n",
    "        flag='b'\n",
    "    else:\n",
    "        print('errrro')\n",
    "\n",
    "if y_3[1]>y_3[0]:\n",
    "    x_finalle=x_3[1]\n",
    "    flag='b'\n",
    "else:\n",
    "    x_finalle=x_3[0]\n",
    "    flag='a'\n",
    "\n",
    "counter=0\n",
    "if flag=='b':\n",
    "    while abs(F_calc(x_finalle)/F_shtrih_1(x_finalle))>eps:\n",
    "\n",
    "            print(counter,x_finalle,x_3)\n",
    "            counter+=1\n",
    "\n",
    "            if F_calc(x_finalle)/F_shtrih_1(x_finalle)!=0: \n",
    "                x_finalle=x_finalle - (F_calc(x_finalle))/(F_shtrih_1(x_finalle)) \n",
    "                x_3[0]=x_3[0]\n",
    "                x_3[1]=x_finalle\n",
    "                continue                \n",
    "            else:\n",
    "                print('we`ve find it: ',x_finalle)\n",
    "                break\n",
    "            print(x_3)\n",
    "            \n",
    "elif flag=='a':\n",
    "    while abs(F_calc(x_finalle)/F_shtrih_1(x_finalle))>eps:\n",
    "\n",
    "            print(counter,x_finalle,x_3)\n",
    "            counter+=1\n",
    "\n",
    "            if F_calc(x_finalle)/F_shtrih_1(x_finalle)!=0: \n",
    "                x_finalle=x_finalle - (F_calc(x_finalle))/(F_shtrih_1(x_finalle)) \n",
    "                x_3[0]=x_finalle\n",
    "                x_3[1]=x_3[1]\n",
    "                continue                \n",
    "            else:\n",
    "                print('we`ve find it: ',x_finalle)\n",
    "                break\n",
    "            print(x_3)\n",
    "        \n",
    "print(x_finalle,'pogreshnost` ',F_calc(x_finalle)/F_shtrih_1(x_finalle))\n",
    "#print(x_finalle,x_3)\n",
    "print('in this dot: ',F_calc(x_finalle))"
   ]
  },
  {
   "cell_type": "code",
   "execution_count": 13,
   "metadata": {},
   "outputs": [
    {
     "name": "stdout",
     "output_type": "stream",
     "text": [
      "0 2 [1, 2]\n",
      "1 1.7671807479606543 [1, 1.7671807479606543]\n",
      "2 1.6993365258165076 [1, 1.6993365258165076]\n",
      "1.6941728959534388 pogreshnost`  2.8326974502095785e-05\n",
      "in this dot:  0.00026956158771263006\n"
     ]
    }
   ],
   "source": [
    "#method 3 Newthon`s\n",
    "\n",
    "x_3=[]\n",
    "y_3=[]\n",
    "x_3.clear()\n",
    "y_3.clear()\n",
    "for i in x:\n",
    "    x_3.append(i)\n",
    "tmp=[]\n",
    "for i in y:\n",
    "    y_3.append(i)\n",
    "    \n",
    "#neobhodimoe yslovie\n",
    "flag='zero'\n",
    "if F_calc(x_3[0])*F_shtrih_2(x_3[0])>0:#x=a\n",
    "    flag='a'\n",
    "    x_finalle=x_3[0]\n",
    "else:\n",
    "    if F_calc(x_3[1])*F_shtrih_2(x_3[1])>0:#x=b\n",
    "        x_finalle=x_3[1]\n",
    "        flag='b'\n",
    "    else:\n",
    "        print('errrro')\n",
    "\n",
    "if y_3[1]>y_3[0]:\n",
    "    x_finalle=x_3[1]\n",
    "    flag='b'\n",
    "else:\n",
    "    x_finalle=x_3[0]\n",
    "    flag='a'\n",
    "\n",
    "counter=0\n",
    "if flag=='b':\n",
    "    while abs(F_calc(x_finalle))>eps:\n",
    "\n",
    "            print(counter,x_finalle,x_3)\n",
    "            counter+=1\n",
    "\n",
    "            if F_calc(x_finalle)/F_shtrih_1(x_finalle)!=0: \n",
    "                x_finalle=x_finalle - (F_calc(x_finalle))/(F_shtrih_1(x_finalle)) \n",
    "                x_3[0]=x_3[0]\n",
    "                x_3[1]=x_finalle\n",
    "                continue                \n",
    "            else:\n",
    "                print('we`ve find it: ',x_finalle)\n",
    "                break\n",
    "            print(x_3)\n",
    "            \n",
    "elif flag=='a':\n",
    "    while abs(F_calc(x_finalle))>eps:\n",
    "\n",
    "            print(counter,x_finalle,x_3)\n",
    "            counter+=1\n",
    "\n",
    "            if F_calc(x_finalle)/F_shtrih_1(x_finalle)!=0: \n",
    "                x_finalle=x_finalle - (F_calc(x_finalle))/(F_shtrih_1(x_finalle)) \n",
    "                x_3[0]=x_finalle\n",
    "                x_3[1]=x_3[1]\n",
    "                continue                \n",
    "            else:\n",
    "                print('we`ve find it: ',x_finalle)\n",
    "                break\n",
    "            print(x_3)\n",
    "        \n",
    "print(x_finalle,'pogreshnost` ',F_calc(x_finalle)/F_shtrih_1(x_finalle))\n",
    "#print(x_finalle,x_3)\n",
    "print('in this dot: ',F_calc(x_finalle))"
   ]
  },
  {
   "cell_type": "code",
   "execution_count": 15,
   "metadata": {},
   "outputs": [
    {
     "name": "stdout",
     "output_type": "stream",
     "text": [
      "0 1.4285714285714286 [1, 2]\n",
      "1 1.612398169379649 [1.4285714285714286, 2]\n",
      "2 1.6710424729469502 [1.612398169379649, 2]\n",
      "3 1.6877861224336823 [1.6710424729469502, 2]\n",
      "4 1.692407562566647 [1.6877861224336823, 2]\n",
      "5 1.6936710279539953 [1.692407562566647, 2]\n",
      "6 1.6940155448620966 [1.6936710279539953, 2]\n",
      "7 1.6941094191596666 [1.6940155448620966, 2]\n",
      "8 1.6941349931249832 [1.6941094191596666, 2]\n",
      "9 1.6941419598126737 [1.6941349931249832, 2]\n",
      "10 1.6941438576033945 [1.6941419598126737, 2]\n",
      "11 1.6941443745772509 [1.6941438576033945, 2]\n",
      "12 1.6941445154050452 [1.6941443745772509, 2]\n",
      "13 1.694144553767646 [1.6941445154050452, 2]\n",
      "14 1.69414456421792 [1.694144553767646, 2]\n",
      "15 1.6941445670646567 [1.69414456421792, 2]\n",
      "16 1.6941445678401301 [1.6941445670646567, 2]\n",
      "17 1.6941445680513751 [1.6941445678401301, 2]\n",
      "18 1.69414456810892 [1.6941445680513751, 2]\n",
      "19 1.6941445681245957 [1.69414456810892, 2]\n",
      "20 1.6941445681288658 [1.6941445681245957, 2]\n",
      "21 1.6941445681300291 [1.6941445681288658, 2]\n",
      "22 1.694144568130346 [1.6941445681300291, 2]\n",
      "23 1.6941445681304323 [1.694144568130346, 2]\n",
      "24 1.6941445681304559 [1.6941445681304323, 2]\n",
      "25 1.694144568130462 [1.6941445681304559, 2]\n",
      "26 1.694144568130464 [1.694144568130462, 2]\n",
      "27 1.6941445681304645 [1.694144568130464, 2]\n",
      "28 1.6941445681304648 [1.6941445681304645, 2]\n",
      "1.6941445681304645 [1.6941445681304645, 1.6941445681304648]\n",
      "in this dot:  -1.7763568394002505e-15\n"
     ]
    }
   ],
   "source": [
    "#method 4 (sechenia)\n",
    "\n",
    "x_4=[]\n",
    "y_4=[]\n",
    "x_4.clear()\n",
    "y_4.clear()\n",
    "for i in x:\n",
    "    x_4.append(i)\n",
    "tmp=[]\n",
    "for i in y:\n",
    "    y_4.append(i)\n",
    "\n",
    "x_finalle=x_4[0] - ((x_4[1] - x_4[0])/(F_calc(x_4[1])-F_calc(x_4[0])))*F_calc(x_4[0])\n",
    "counter=0\n",
    "while abs(x_4[1]-x_4[0])>eps:    \n",
    "\n",
    "        print(counter,x_finalle,x_4)\n",
    "        counter+=1\n",
    "        \n",
    "        if F_calc(x_4[0])*F_calc(x_4[1])<0: \n",
    "            \n",
    "            x_finalle=x_4[0] - ((x_4[1] - x_4[0])/(F_calc(x_4[1])-F_calc(x_4[0])))*F_calc(x_4[0])\n",
    "            if F_calc(x_finalle) == 0:\n",
    "                print('we`ve find it: ',x_finalle)\n",
    "                break\n",
    "            elif F_calc(x_finalle) > 0:            \n",
    "                x_4[0]=x_4[0]\n",
    "                x_4[1]=x_finalle\n",
    "                x_finalle=x_4[0] - ((x_4[1] - x_4[0])/(F_calc(x_4[1])-F_calc(x_4[0])))*F_calc(x_4[0])\n",
    "                continue\n",
    "            else:\n",
    "                x_4[0]=x_finalle \n",
    "                x_4[1]=x_4[1]\n",
    "                x_finalle=x_4[0] - ((x_4[1] - x_4[0])/(F_calc(x_4[1])-F_calc(x_4[0])))*F_calc(x_4[0])\n",
    "                continue\n",
    "                \n",
    "        elif F_calc(x_4[0])*F_calc(x_4[1])>0:\n",
    "            print('crashed')\n",
    "            break\n",
    "            \n",
    "        #x_finalle=x_4[0] - ((x_4[1] - x_4[0])/(F_calc(x_4[1])-F_calc(x_4[0])))*F_calc(x_4[0])\n",
    "        \n",
    "        print(x_4)\n",
    "        \n",
    "print(x_finalle,x_4)\n",
    "print('in this dot: ',F_calc(x_finalle))    "
   ]
  },
  {
   "cell_type": "code",
   "execution_count": 12,
   "metadata": {},
   "outputs": [
    {
     "name": "stdout",
     "output_type": "stream",
     "text": [
      "\n",
      "x or [a,b]:  [1.6000000000000003, 1.7000000000000004]\n",
      "y:  [-0.8104131600237174, 0.05606328618315892]\n",
      "Is there any roots?: 1\n"
     ]
    }
   ],
   "source": [
    "#half deviding version2\n",
    "#Razbienie\n",
    "x=[]\n",
    "y=[]\n",
    "flag=1\n",
    "i=0\n",
    "j=0\n",
    "step=0.1\n",
    "while True:\n",
    "    #print(x)\n",
    "    #print(y)\n",
    "    #print('i',i)\n",
    "    if (i==0) or (i==1):\n",
    "        x.append(j)\n",
    "        y.append(F_calc(j))\n",
    "        i+=1\n",
    "        j+=step\n",
    "        continue\n",
    "    elif y[i-2]*y[i-1]<0:\n",
    "        #x.append(i)\n",
    "        #y.append(F_calc(i))\n",
    "        break\n",
    "    elif i==500:\n",
    "        flag=0\n",
    "        break\n",
    "    else:\n",
    "        x.append(j)\n",
    "        y.append(F_calc(j))\n",
    "        j+=step\n",
    "        i+=1\n",
    "        continue\n",
    "    \n",
    "#print(x)\n",
    "#print(y)\n",
    "\n",
    "indexes=[]#make interval\n",
    "for i in range(len(y)-1):\n",
    "    if y[i]*y[i+1]<0:\n",
    "        indexes.append(x[i:i+2])\n",
    "        indexes.append(y[i:i+2])\n",
    "    else:\n",
    "        continue       \n",
    "#print(indexes)\n",
    "print()\n",
    "if indexes!= []:\n",
    "    x=indexes[0]\n",
    "    y=indexes[1]\n",
    "    print('x or [a,b]: ',x)\n",
    "    print('y: ',y)\n",
    "print('Is there any roots?:',flag)\n"
   ]
  },
  {
   "cell_type": "code",
   "execution_count": null,
   "metadata": {
    "collapsed": true
   },
   "outputs": [],
   "source": []
  }
 ],
 "metadata": {
  "kernelspec": {
   "display_name": "Python 3",
   "language": "python",
   "name": "python3"
  },
  "language_info": {
   "codemirror_mode": {
    "name": "ipython",
    "version": 3
   },
   "file_extension": ".py",
   "mimetype": "text/x-python",
   "name": "python",
   "nbconvert_exporter": "python",
   "pygments_lexer": "ipython3",
   "version": "3.6.9"
  }
 },
 "nbformat": 4,
 "nbformat_minor": 2
}
